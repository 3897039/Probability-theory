{
 "cells": [
  {
   "cell_type": "markdown",
   "metadata": {},
   "source": [
    "Посчитать коэффициент линейной регрессии при заработной плате (zp), \n",
    "используя градиентный спуск (без intercept)."
   ]
  },
  {
   "cell_type": "code",
   "execution_count": 1,
   "metadata": {},
   "outputs": [],
   "source": [
    "import pandas as pd\n",
    "import numpy as np\n",
    "import matplotlib.pyplot as plt\n",
    "%matplotlib inline"
   ]
  },
  {
   "cell_type": "code",
   "execution_count": 2,
   "metadata": {},
   "outputs": [],
   "source": [
    "zp = np.array([35, 45, 190, 200, 40, 70, 54, 150, 120, 110])\n",
    "ks = np.array([401, 574, 874, 919, 459, 739, 653, 902, 746, 832])"
   ]
  },
  {
   "cell_type": "code",
   "execution_count": 3,
   "metadata": {},
   "outputs": [],
   "source": [
    "alpha = 1e-6\n",
    "w1 = 0.1\n",
    "\n",
    "def mse_(w1, y=ks, X=zp, n=10):\n",
    "    return np.sum((w1 * X - y) ** 2) / n"
   ]
  },
  {
   "cell_type": "code",
   "execution_count": 4,
   "metadata": {},
   "outputs": [
    {
     "name": "stdout",
     "output_type": "stream",
     "text": [
      "iteration: 0, w1 : 0.25952808000000005, mse: 493237.7212546963\n",
      "iteration: 100, w1 : 5.54537842245223, mse: 58151.31823171113\n",
      "iteration: 200, w1 : 5.868748638669329, mse: 56522.97550129376\n",
      "iteration: 300, w1 : 5.888531320728348, mse: 56516.88130936019\n",
      "iteration: 400, w1 : 5.8897415574471985, mse: 56516.85850140053\n",
      "iteration: 500, w1 : 5.889815595583751, mse: 56516.858416040064\n",
      "iteration: 600, w1 : 5.889820124983314, mse: 56516.85841572062\n",
      "iteration: 700, w1 : 5.889820402076462, mse: 56516.85841571941\n",
      "iteration: 800, w1 : 5.88982041902807, mse: 56516.8584157194\n",
      "iteration: 900, w1 : 5.889820420065112, mse: 56516.85841571941\n"
     ]
    }
   ],
   "source": [
    "for i in range(1000):\n",
    "    fp = (1 / 10) * np.sum(2 * (w1 * zp - ks) * zp)\n",
    "    w1 -= alpha * fp\n",
    "    if i % 100 == 0:\n",
    "        print(f'iteration: {i}, w1 : {w1}, mse: {mse_(w1) }')"
   ]
  }
 ],
 "metadata": {
  "kernelspec": {
   "display_name": "Python 3",
   "language": "python",
   "name": "python3"
  },
  "language_info": {
   "codemirror_mode": {
    "name": "ipython",
    "version": 3
   },
   "file_extension": ".py",
   "mimetype": "text/x-python",
   "name": "python",
   "nbconvert_exporter": "python",
   "pygments_lexer": "ipython3",
   "version": "3.12.0"
  }
 },
 "nbformat": 4,
 "nbformat_minor": 2
}
