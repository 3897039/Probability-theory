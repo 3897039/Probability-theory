{
 "cells": [
  {
   "cell_type": "markdown",
   "metadata": {},
   "source": [
    "В ящике имеется 15 деталей, из которых 9 окрашены. \n",
    "Рабочий случайным образом извлекает 3 детали. \n",
    "Какова вероятность того, что все извлеченные детали окрашены?"
   ]
  },
  {
   "cell_type": "code",
   "execution_count": 1,
   "metadata": {},
   "outputs": [],
   "source": [
    "from math import factorial"
   ]
  },
  {
   "cell_type": "markdown",
   "metadata": {},
   "source": [
    "n - сочетание 3 из 15\n",
    "m - сочетание 3 из 9"
   ]
  },
  {
   "cell_type": "code",
   "execution_count": 3,
   "metadata": {},
   "outputs": [
    {
     "name": "stdout",
     "output_type": "stream",
     "text": [
      "вероятность того, что все извлеченные детали окрашены = 0.18\n"
     ]
    }
   ],
   "source": [
    "P = (factorial(9) / (factorial(3)*factorial(9 - 3))) / (factorial(15) / (factorial(3)*factorial(15 - 3)))\n",
    "print(f'вероятность того, что все извлеченные детали окрашены = {P :.2f}')"
   ]
  }
 ],
 "metadata": {
  "kernelspec": {
   "display_name": "Python 3",
   "language": "python",
   "name": "python3"
  },
  "language_info": {
   "codemirror_mode": {
    "name": "ipython",
    "version": 3
   },
   "file_extension": ".py",
   "mimetype": "text/x-python",
   "name": "python",
   "nbconvert_exporter": "python",
   "pygments_lexer": "ipython3",
   "version": "3.12.0"
  }
 },
 "nbformat": 4,
 "nbformat_minor": 2
}
