{
 "cells": [
  {
   "cell_type": "markdown",
   "metadata": {},
   "source": [
    "На соревновании по биатлону один из трех спортсменов стреляет и попадает в мишень. \n",
    "Вероятность попадания для первого спортсмена равна 0.9, для второго — 0.8, для третьего — 0.6. \n",
    "Найти вероятность того, что выстрел произведен: a - первым спортсменом б - вторым спортсменом в - третьим спортсменом."
   ]
  },
  {
   "cell_type": "markdown",
   "metadata": {},
   "source": [
    "S1 - первый стрелок попал в мишень\n",
    "S2 - второй стрелок попал в мишень\n",
    "S3 - третий стрелок попал в мишень\n",
    "S - мишень поражена"
   ]
  },
  {
   "cell_type": "code",
   "execution_count": 1,
   "metadata": {},
   "outputs": [
    {
     "data": {
      "text/plain": [
       "0.7666666666666666"
      ]
     },
     "execution_count": 1,
     "metadata": {},
     "output_type": "execute_result"
    }
   ],
   "source": [
    "PS = 1 / 3 * 0.9 + 1 / 3 * 0.8 + 1 / 3 * 0.6\n",
    "PS"
   ]
  },
  {
   "cell_type": "code",
   "execution_count": 2,
   "metadata": {},
   "outputs": [
    {
     "data": {
      "text/plain": [
       "0.391304347826087"
      ]
     },
     "execution_count": 2,
     "metadata": {},
     "output_type": "execute_result"
    }
   ],
   "source": [
    "PS1 = 1 / 3 * 0.9 / PS\n",
    "PS1"
   ]
  },
  {
   "cell_type": "code",
   "execution_count": 3,
   "metadata": {},
   "outputs": [
    {
     "data": {
      "text/plain": [
       "0.3478260869565218"
      ]
     },
     "execution_count": 3,
     "metadata": {},
     "output_type": "execute_result"
    }
   ],
   "source": [
    "PS2 = 1 / 3 * 0.8 / PS\n",
    "PS2"
   ]
  },
  {
   "cell_type": "code",
   "execution_count": 4,
   "metadata": {},
   "outputs": [
    {
     "data": {
      "text/plain": [
       "0.2608695652173913"
      ]
     },
     "execution_count": 4,
     "metadata": {},
     "output_type": "execute_result"
    }
   ],
   "source": [
    "PS3 = 1 / 3 * 0.6 / PS\n",
    "PS3"
   ]
  }
 ],
 "metadata": {
  "kernelspec": {
   "display_name": "Python 3",
   "language": "python",
   "name": "python3"
  },
  "language_info": {
   "codemirror_mode": {
    "name": "ipython",
    "version": 3
   },
   "file_extension": ".py",
   "mimetype": "text/x-python",
   "name": "python",
   "nbconvert_exporter": "python",
   "pygments_lexer": "ipython3",
   "version": "3.12.0"
  }
 },
 "nbformat": 4,
 "nbformat_minor": 2
}
